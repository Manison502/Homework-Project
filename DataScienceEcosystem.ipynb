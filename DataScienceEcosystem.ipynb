{
 "cells": [
  {
   "cell_type": "markdown",
   "metadata": {},
   "source": [
    "# Data Science Tools and Ecosystem\n"
   ]
  },
  {
   "cell_type": "markdown",
   "metadata": {},
   "source": [
    "# Author--Manison502"
   ]
  },
  {
   "cell_type": "markdown",
   "metadata": {},
   "source": [
    "In this notebook, Data Science Tools and Ecosystem which I learned in Coursera last few weeks are summarized.Including R&Rstudio and Github,etc."
   ]
  },
  {
   "cell_type": "markdown",
   "metadata": {},
   "source": [
    "Some of the popular languages that Data Scientists use are:Python\n",
    "1.R\n",
    "2.SQL\n",
    "3.Scala\n",
    "4.Julia\n",
    "5.MATLAB\n",
    "6.Java\n",
    "7.SAS\n",
    "8.JavaScript\n",
    "9.Ruby\n",
    "These languages are commonly used for data analysis, machine learning, statistical modeling, and other data science tasks. Python and R are particularly popular for their extensive libraries and packages designed for data science."
   ]
  },
  {
   "cell_type": "markdown",
   "metadata": {},
   "source": [
    "**Objectives Covered in This Notebook**\n",
    "\n",
    "- Converting minutes to hours using Python\n",
    "- Handling user input and performing corresponding operations\n",
    "- Understanding and handling exceptional cases\n",
    "- Organizing and presenting information in a Jupyter Notebook\n"
   ]
  },
  {
   "cell_type": "markdown",
   "metadata": {},
   "source": [
    "# Some of the commonly used libraries used by Data Scientists include:\n",
    "- Pandas: A library for data manipulation and analysis\n",
    "- NumPy: A library for scientific computing, providing support for large, multi-dimensional arrays and matrices\n",
    "- Scikit-learn: A library for machine learning, containing various machine learning algorithms\n"
   ]
  },
  {
   "cell_type": "markdown",
   "metadata": {},
   "source": [
    "### Open Source Development Environment Tools\n",
    "- Jupyter: An interactive notebook that supports data science workflows\n",
    "- RStudio: An integrated development environment specifically designed for the R language\n",
    "- VS Code: A lightweight yet powerful code editor that supports data science work\n"
   ]
  },
  {
   "cell_type": "markdown",
   "metadata": {},
   "source": [
    "### Below are a few examples of evaluating arithmetic expressions in Python.\n",
    "- Addition: The + operator can be used to add two numbers together. For example, 2 + 3 evaluates to 5.\n",
    "- Subtraction: The - operator can be used to subtract one number from another. For example, 5 - 2 evaluates to 3.\n",
    "- Multiplication: The * operator can be used to multiply two numbers together. For example, 2 * 3 evaluates to 6.\n",
    "- Division: The / operator can be used to divide one number by another. For example, 6 / 3 evaluates to 2.\n",
    "- Exponentiation: The ** operator can be used to raise a number to a power. For example, 2 ** 3 evaluates to 8.\n",
    "- Modulo: The % operator can be used to find the remainder when one number is divided by another. For example, 7 % 3 evaluates to 1."
   ]
  },
  {
   "cell_type": "code",
   "execution_count": 3,
   "metadata": {},
   "outputs": [
    {
     "name": "stdout",
     "output_type": "stream",
     "text": [
      "12\n",
      "12\n"
     ]
    }
   ],
   "source": [
    "#This is a simple program which can be used for add numbers which can be input together.\n",
    "x = input(\"Please enter a number: \")\n",
    "if x.isdigit():  \n",
    "    temp = int(x)  \n",
    "    sum1 = 0\n",
    "    result = 1\n",
    "    sum1 = sum1 + temp\n",
    "    result = result*temp\n",
    "    print(sum1)\n",
    "    print(result)\n",
    "else:\n",
    "    print(\"Type error\")\n"
   ]
  },
  {
   "cell_type": "code",
   "execution_count": null,
   "metadata": {},
   "outputs": [],
   "source": [
    "# hours to minutes\n",
    "minutes = 200\n",
    "hours = minutes / 60\n",
    "print(hours)\n"
   ]
  }
 ],
 "metadata": {
  "kernelspec": {
   "display_name": "Python 3",
   "language": "python",
   "name": "python3"
  },
  "language_info": {
   "codemirror_mode": {
    "name": "ipython",
    "version": 3
   },
   "file_extension": ".py",
   "mimetype": "text/x-python",
   "name": "python",
   "nbconvert_exporter": "python",
   "pygments_lexer": "ipython3",
   "version": "3.8.10"
  }
 },
 "nbformat": 4,
 "nbformat_minor": 2
}
